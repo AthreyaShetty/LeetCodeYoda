{
 "cells": [
  {
   "cell_type": "markdown",
   "metadata": {},
   "source": [
    "# 1.1 Is Unique: Implement an algorithm to determine if a string has all unique characters. What if you cannot use additional data structures? "
   ]
  },
  {
   "cell_type": "markdown",
   "metadata": {},
   "source": [
    "#### My First Attempt"
   ]
  },
  {
   "cell_type": "code",
   "execution_count": 1,
   "metadata": {},
   "outputs": [
    {
     "name": "stdout",
     "output_type": "stream",
     "text": [
      "Duplicates present\n",
      "athrey\n"
     ]
    }
   ],
   "source": [
    "a=\"Athreya\"\n",
    "b=\"\"\n",
    "for x in a.lower():\n",
    "    if x not in b:\n",
    "        b+=x\n",
    "    else:\n",
    "        print(\"Duplicates present\")\n",
    "print(b)"
   ]
  },
  {
   "cell_type": "markdown",
   "metadata": {},
   "source": [
    "#### Approach 1 – Brute Force technique: Run 2 loops with variable i and j. Compare $str[i]$ and $str[j]$. If they become equal at any point, return false. \n",
    "#### Time Complexity: $O(n2)$ "
   ]
  },
  {
   "cell_type": "code",
   "execution_count": 3,
   "metadata": {},
   "outputs": [
    {
     "name": "stdout",
     "output_type": "stream",
     "text": [
      "Duplicates Present\n"
     ]
    }
   ],
   "source": [
    "def uniqueCharacter(str):\n",
    "    for i in range(len(str)):\n",
    "        for j in range(i+1,len(str)):\n",
    "            if str[i]==str[j]:\n",
    "                return False;\n",
    "    return True;\n",
    "\n",
    "str=\"athreya\"\n",
    "if(uniqueCharacter(str)):\n",
    "    print(\"No Duplicates\")\n",
    "else:\n",
    "    print(\"Duplicates Present\")\n",
    "        "
   ]
  },
  {
   "cell_type": "markdown",
   "metadata": {},
   "source": [
    "#### Approach 2 – Sorting: Using sorting based on ASCII values of characters \n",
    "#### Time Complexity: $O(n log n)$"
   ]
  },
  {
   "cell_type": "code",
   "execution_count": 19,
   "metadata": {},
   "outputs": [
    {
     "name": "stdout",
     "output_type": "stream",
     "text": [
      "abcath contains duplicates\n"
     ]
    }
   ],
   "source": [
    "def differentCharacters(word):\n",
    "    st=sorted(word);    #Built-in function\n",
    "    \n",
    "    for i in range(len(st)-1):\n",
    "        if (st[i]==st[i+1]):\n",
    "            return False;\n",
    "    return True;\n",
    "\n",
    "if __name__==\"__main__\":\n",
    "    word=\"abcath\"\n",
    "    \n",
    "    if(differentCharacters(word)):\n",
    "        print(word+\" contains unique characters\")\n",
    "    else:\n",
    "        print(word+\" contains duplicates\")"
   ]
  },
  {
   "cell_type": "markdown",
   "metadata": {},
   "source": [
    "#### Approach 3 – Use of Extra Data Structure: This approach assumes ASCII char set(8 bits). The idea is to maintain a boolean array for the characters. The 256 indices represent 256 characters. All the array elements are initially set to false. As we iterate over the string, set true at the index equal to the int value of the character. If at any time, we encounter that the array value is already true, it means the character with that int value is repeated. \n",
    "\n",
    "#### Time Complexity: $O(n)$ "
   ]
  },
  {
   "cell_type": "code",
   "execution_count": 40,
   "metadata": {},
   "outputs": [
    {
     "name": "stdout",
     "output_type": "stream",
     "text": [
      "MicroA!#$%99 contains duplicates\n"
     ]
    }
   ],
   "source": [
    "max_char=256;\n",
    "\n",
    "\n",
    "def uniqueCharacters(input):\n",
    "\n",
    "    if (len(input)>max_char):\n",
    "        return False;\n",
    "    \n",
    "    char=[False]*max_char;\n",
    "    \n",
    "    for i in range(len(input)):\n",
    "        index=ord(input[i])     #ord() function to find the UICODE of the argument(i)\n",
    "        \n",
    "        if char[index]==True:\n",
    "            return False\n",
    "        char[index]=True\n",
    "    return True\n",
    "        \n",
    "        \n",
    "\n",
    "if __name__==\"__main__\":\n",
    "    \n",
    "    input='MicroA!#$%99'\n",
    "    \n",
    "    if (uniqueCharacters(input)):\n",
    "        print(input+\" contains no duplicates\")\n",
    "    else:\n",
    "        print(input +\" contains duplicates\")"
   ]
  },
  {
   "cell_type": "markdown",
   "metadata": {},
   "source": [
    "##### [Contains Duplicates](https://leetcode.com/problems/contains-duplicate/) \n",
    "\n",
    "Link to the Leetcode question"
   ]
  },
  {
   "cell_type": "markdown",
   "metadata": {},
   "source": [
    "###### 217. Contains Duplicate \n",
    "\n",
    "class Solution:\n",
    "    def containsDuplicate(self, nums: List[int]) -> bool:"
   ]
  },
  {
   "cell_type": "code",
   "execution_count": 10,
   "metadata": {},
   "outputs": [
    {
     "ename": "TypeError",
     "evalue": "object() takes no parameters",
     "output_type": "error",
     "traceback": [
      "\u001b[1;31m---------------------------------------------------------------------------\u001b[0m",
      "\u001b[1;31mTypeError\u001b[0m                                 Traceback (most recent call last)",
      "\u001b[1;32m<ipython-input-10-dfc7a1920b59>\u001b[0m in \u001b[0;36m<module>\u001b[1;34m()\u001b[0m\n\u001b[0;32m     11\u001b[0m \u001b[0mnums\u001b[0m\u001b[1;33m=\u001b[0m\u001b[1;33m[\u001b[0m\u001b[1;36m1\u001b[0m\u001b[1;33m,\u001b[0m\u001b[1;36m2\u001b[0m\u001b[1;33m,\u001b[0m\u001b[1;36m3\u001b[0m\u001b[1;33m,\u001b[0m\u001b[1;36m4\u001b[0m\u001b[1;33m,\u001b[0m\u001b[1;36m5\u001b[0m\u001b[1;33m]\u001b[0m\u001b[1;33m;\u001b[0m\u001b[1;33m\u001b[0m\u001b[0m\n\u001b[0;32m     12\u001b[0m \u001b[1;33m\u001b[0m\u001b[0m\n\u001b[1;32m---> 13\u001b[1;33m \u001b[0mprint\u001b[0m\u001b[1;33m(\u001b[0m\u001b[0mSolution\u001b[0m\u001b[1;33m(\u001b[0m\u001b[0mnums\u001b[0m\u001b[1;33m)\u001b[0m\u001b[1;33m)\u001b[0m\u001b[1;33m;\u001b[0m\u001b[1;33m\u001b[0m\u001b[0m\n\u001b[0m\u001b[0;32m     14\u001b[0m \u001b[1;33m\u001b[0m\u001b[0m\n",
      "\u001b[1;31mTypeError\u001b[0m: object() takes no parameters"
     ]
    }
   ],
   "source": [
    "from typing import List\n",
    "class Solution:\n",
    "    def containsDuplicate(self, nums: List[int]) -> bool:\n",
    "        sorted(nums);\n",
    "        for i in range(len(nums)-1):\n",
    "            if nums[i]==nums[i+1]:\n",
    "                return True;\n",
    "            else:\n",
    "                continue;\n",
    "        return False;   \n",
    "nums=[1,2,3,4,5];\n",
    "\n",
    "print(Solution(nums));\n",
    "        "
   ]
  },
  {
   "cell_type": "markdown",
   "metadata": {},
   "source": []
  }
 ],
 "metadata": {
  "kernelspec": {
   "display_name": "Python 3",
   "language": "python",
   "name": "python3"
  },
  "language_info": {
   "codemirror_mode": {
    "name": "ipython",
    "version": 3
   },
   "file_extension": ".py",
   "mimetype": "text/x-python",
   "name": "python",
   "nbconvert_exporter": "python",
   "pygments_lexer": "ipython3",
   "version": "3.6.3"
  }
 },
 "nbformat": 4,
 "nbformat_minor": 2
}
